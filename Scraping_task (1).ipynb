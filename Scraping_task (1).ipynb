{
  "nbformat": 4,
  "nbformat_minor": 0,
  "metadata": {
    "colab": {
      "provenance": []
    },
    "kernelspec": {
      "name": "python3",
      "display_name": "Python 3"
    },
    "language_info": {
      "name": "python"
    }
  },
  "cells": [
    {
      "cell_type": "markdown",
      "source": [
        "Web Scraping image from google"
      ],
      "metadata": {
        "id": "BQhoRAUSpyfZ"
      }
    },
    {
      "cell_type": "code",
      "execution_count": null,
      "metadata": {
        "colab": {
          "base_uri": "https://localhost:8080/"
        },
        "id": "_4rN4oV1nPni",
        "outputId": "3089d27f-ebb6-49d8-c156-8cead549ef00"
      },
      "outputs": [
        {
          "output_type": "stream",
          "name": "stdout",
          "text": [
            "Requirement already satisfied: requests in /usr/local/lib/python3.10/dist-packages (2.31.0)\n",
            "Requirement already satisfied: beautifulsoup4 in /usr/local/lib/python3.10/dist-packages (4.12.3)\n",
            "Requirement already satisfied: charset-normalizer<4,>=2 in /usr/local/lib/python3.10/dist-packages (from requests) (3.3.2)\n",
            "Requirement already satisfied: idna<4,>=2.5 in /usr/local/lib/python3.10/dist-packages (from requests) (3.7)\n",
            "Requirement already satisfied: urllib3<3,>=1.21.1 in /usr/local/lib/python3.10/dist-packages (from requests) (2.0.7)\n",
            "Requirement already satisfied: certifi>=2017.4.17 in /usr/local/lib/python3.10/dist-packages (from requests) (2024.2.2)\n",
            "Requirement already satisfied: soupsieve>1.2 in /usr/local/lib/python3.10/dist-packages (from beautifulsoup4) (2.5)\n"
          ]
        }
      ],
      "source": [
        "pip install requests beautifulsoup4\n"
      ]
    },
    {
      "cell_type": "code",
      "source": [
        "import requests\n",
        "from bs4 import BeautifulSoup\n",
        "from IPython.display import HTML\n",
        "import os\n",
        "import base64\n",
        "from PIL import Image as PILImage\n",
        "import io\n",
        "\n",
        "def fetch_and_display_and_save_images(query, number_of_images):\n",
        "    base_url = 'https://www.google.com'\n",
        "    url = f'{base_url}/search?hl=en&q={query}&tbm=isch'\n",
        "    headers = {'User-Agent': 'Mozilla/5.0 (Windows NT 10.0; Win64; x64) AppleWebKit/537.36 (KHTML, like Gecko) Chrome/58.0.3029.110 Safari/537.3'}\n",
        "    response = requests.get(url, headers=headers)\n",
        "    soup = BeautifulSoup(response.text, 'html.parser')\n",
        "\n",
        "    images = []\n",
        "    for img in soup.find_all('img'):\n",
        "        src = img.get('src')\n",
        "        if src and src.startswith('http'):\n",
        "            images.append(src)\n",
        "\n",
        "    # Create a directory for saving images if it doesn't exist\n",
        "    folder_path = '/content/images_saved'\n",
        "    if not os.path.exists(folder_path):\n",
        "        os.makedirs(folder_path)\n",
        "\n",
        "    # Prepare HTML for horizontal display and save images\n",
        "    image_html = \"\"\n",
        "    for i, img_url in enumerate(images[:number_of_images]):\n",
        "        try:\n",
        "            img_data = requests.get(img_url).content\n",
        "            img_pil = PILImage.open(io.BytesIO(img_data))\n",
        "            img_pil.save(f'{folder_path}/{query}_{i+1}.jpg')  # Save the image\n",
        "\n",
        "            # Convert to Base64 for embedding\n",
        "            buffered = io.BytesIO()\n",
        "            img_pil.save(buffered, format=\"JPEG\")\n",
        "            img_base64 = base64.b64encode(buffered.getvalue()).decode('utf-8')\n",
        "            image_html += f\"<img style='width: 150px; margin: 5px; display: inline-block;' src='data:image/jpeg;base64,{img_base64}' />\"\n",
        "        except Exception as e:\n",
        "            print(f\"Could not process {img_url} - {e}\")\n",
        "\n",
        "    # Display images in the notebook\n",
        "    display(HTML(image_html))\n",
        "\n",
        "fetch_and_display_and_save_images('mango', 5)\n"
      ],
      "metadata": {
        "colab": {
          "base_uri": "https://localhost:8080/",
          "height": 181
        },
        "id": "hshEjE2bqDPK",
        "outputId": "87e6636b-8893-402b-f1c3-daa5d2cca2ad"
      },
      "execution_count": 1,
      "outputs": [
        {
          "output_type": "display_data",
          "data": {
            "text/plain": [
              "<IPython.core.display.HTML object>"
            ],
            "text/html": [
              "<img style='width: 150px; margin: 5px; display: inline-block;' src='data:image/jpeg;base64,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' /><img style='width: 150px; margin: 5px; display: inline-block;' src='data:image/jpeg;base64,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' /><img style='width: 150px; margin: 5px; display: inline-block;' src='data:image/jpeg;base64,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' /><img style='width: 150px; margin: 5px; display: inline-block;' src='data:image/jpeg;base64,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' /><img style='width: 150px; margin: 5px; display: inline-block;' src='data:image/jpeg;base64,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' />"
            ]
          },
          "metadata": {}
        }
      ]
    }
  ]
}